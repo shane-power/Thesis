{
 "cells": [
  {
   "cell_type": "markdown",
   "id": "5ab77e9b",
   "metadata": {},
   "source": [
    "# Curtailment From Eirgrid Data "
   ]
  },
  {
   "cell_type": "code",
   "execution_count": 1,
   "id": "7f55efa3",
   "metadata": {},
   "outputs": [],
   "source": [
    "#Import libraries\n",
    "import pandas as pd \n",
    "import numpy as np \n",
    "import matplotlib.pyplot as plt\n",
    "import seaborn as sns\n",
    "from pyomo.environ import *\n",
    "from pyomo.util.infeasible import log_infeasible_constraints\n",
    "import logging\n",
    "pd.options.mode.chained_assignment = None  \n",
    "width = 426.79135"
   ]
  },
  {
   "cell_type": "code",
   "execution_count": 2,
   "id": "8dc14818",
   "metadata": {},
   "outputs": [],
   "source": [
    "def set_size(width, fraction=1):\n",
    "    \"\"\"Set figure dimensions to avoid scaling in LaTeX.\n",
    "\n",
    "    Parameters\n",
    "    ----------\n",
    "    width: float\n",
    "            Document textwidth or columnwidth in pts\n",
    "    fraction: float, optional\n",
    "            Fraction of the width which you wish the figure to occupy\n",
    "\n",
    "    Returns\n",
    "    -------\n",
    "    fig_dim: tuple\n",
    "            Dimensions of figure in inches\n",
    "    \"\"\"\n",
    "    # Width of figure (in pts)\n",
    "    fig_width_pt = width * fraction\n",
    "\n",
    "    # Convert from pt to inches\n",
    "    inches_per_pt = 1 / 72.27\n",
    "\n",
    "    # Golden ratio to set aesthetic figure height\n",
    "    # https://disq.us/p/2940ij3\n",
    "    golden_ratio = (5**.5 - 1) / 2\n",
    "\n",
    "    # Figure width in inches\n",
    "    fig_width_in = fig_width_pt * inches_per_pt\n",
    "    # Figure height in inches\n",
    "    fig_height_in = fig_width_in * golden_ratio\n",
    "\n",
    "    fig_dim = (fig_width_in, fig_height_in)\n",
    "\n",
    "    return fig_dim"
   ]
  },
  {
   "cell_type": "code",
   "execution_count": 3,
   "id": "3e0065ca",
   "metadata": {},
   "outputs": [],
   "source": [
    "#bring in the raw data, this is in MW\n",
    "df_14_15 = pd.read_excel('data/Eirgrid_data_14_15.xlsx', index_col=0) \n",
    "df_16_17 = pd.read_excel('data/Eirgrid_data_16_17.xlsx', index_col=0) \n",
    "df_18_19 = pd.read_excel('data/Eirgrid_data_18_19.xlsx', index_col=0) \n",
    "df_20_21 = pd.read_excel('data/Eirgrid_data_20_21.xlsx', index_col=0) "
   ]
  },
  {
   "cell_type": "code",
   "execution_count": 4,
   "id": "b20d7f55",
   "metadata": {},
   "outputs": [],
   "source": [
    "df_14 = df_14_15[df_14_15.index.year.isin([2014])]\n",
    "df_15 = df_14_15[df_14_15.index.year.isin([2015])]\n",
    "df_16 = df_16_17[df_16_17.index.year.isin([2016])]\n",
    "df_17 = df_16_17[df_16_17.index.year.isin([2017])]\n",
    "df_18 = df_18_19[df_18_19.index.year.isin([2018])]\n",
    "df_19 = df_18_19[df_18_19.index.year.isin([2019])]\n",
    "df_20 = df_20_21[df_20_21.index.year.isin([2020])]\n",
    "df_21 = df_20_21[df_20_21.index.year.isin([2021])]"
   ]
  },
  {
   "cell_type": "code",
   "execution_count": 5,
   "id": "6af29d10",
   "metadata": {},
   "outputs": [],
   "source": [
    "df = pd.concat([df_14,df_15,df_16,df_17,df_18,df_19,df_20])"
   ]
  },
  {
   "cell_type": "code",
   "execution_count": 6,
   "id": "55e7fcee",
   "metadata": {},
   "outputs": [
    {
     "name": "stderr",
     "output_type": "stream",
     "text": [
      "C:\\Users\\shane\\Anaconda3\\lib\\site-packages\\IPython\\core\\interactiveshell.py:3165: DtypeWarning: Columns (0,1,8,16) have mixed types.Specify dtype option on import or set low_memory=False.\n",
      "  has_raised = await self.run_ast_nodes(code_ast.body, cell_name,\n"
     ]
    }
   ],
   "source": [
    "market_prices = pd.read_csv('data/market_price.csv')"
   ]
  },
  {
   "cell_type": "markdown",
   "id": "c9d4e2ff",
   "metadata": {},
   "source": [
    "## Energy data"
   ]
  },
  {
   "cell_type": "code",
   "execution_count": 7,
   "id": "e0393a04",
   "metadata": {},
   "outputs": [],
   "source": [
    "#Decided to use an all Island approach as they are intrinsincally linked\n",
    "\n",
    "all_ireland = pd.DataFrame()\n",
    "\n",
    "#Create new columns\n",
    "all_ireland['Wind Availability'] = df['IE Wind Availability']+df['NI Wind Availability']\n",
    "all_ireland['Wind Generation'] = df['IE Wind Generation']+df['NI Wind Generation']\n",
    "all_ireland['Demand'] = df['IE Demand']+ df['NI Demand']\n",
    "all_ireland['SNSP'] = df['SNSP']\n",
    "\n",
    "#Not entirely sure yet if this is how to get wind curtailment, shouldn't have to do the negative thing\n",
    "all_ireland['Curtailment'] = all_ireland['Wind Availability'] - all_ireland['Wind Generation'] \n",
    "\n",
    "#set negative values to 0\n",
    "all_ireland[all_ireland < 0] = 0\n",
    "\n",
    "#remake to hourly and choose 2019\n",
    "all_ireland = all_ireland.resample('H').mean() #bring it from quarter hourly data to hourly, now in MWh\n",
    "all_ireland = all_ireland.fillna(method='ffill') #in case there's missing data fill with next value in line\n"
   ]
  },
  {
   "cell_type": "code",
   "execution_count": 8,
   "id": "01487a04",
   "metadata": {},
   "outputs": [
    {
     "data": {
      "text/plain": [
       "0.66245"
      ]
     },
     "execution_count": 8,
     "metadata": {},
     "output_type": "execute_result"
    }
   ],
   "source": [
    "all_ireland['SNSP'].max() #This makes sense with whats in the report, was increased to 65%"
   ]
  },
  {
   "cell_type": "code",
   "execution_count": 9,
   "id": "7a74cee9",
   "metadata": {},
   "outputs": [
    {
     "data": {
      "text/plain": [
       "4207.56625"
      ]
     },
     "execution_count": 9,
     "metadata": {},
     "output_type": "execute_result"
    }
   ],
   "source": [
    "all_ireland['Wind Generation'].max()"
   ]
  },
  {
   "cell_type": "code",
   "execution_count": 10,
   "id": "5711f894",
   "metadata": {},
   "outputs": [
    {
     "name": "stdout",
     "output_type": "stream",
     "text": [
      "67156.94 11076\n",
      "5973.07 707\n",
      "% dispatch down = 8.17\n"
     ]
    }
   ],
   "source": [
    "per_dispactch_down = (all_ireland['Curtailment'].sum()/all_ireland['Wind Availability'].sum())*100\n",
    "total_gen = round(all_ireland['Wind Generation'].sum()/1000,2)\n",
    "total_dispatch_down = round(all_ireland['Curtailment'].sum()/1000,2)\n",
    "\n",
    "print(total_gen, 11076) #so the over\n",
    "print(total_dispatch_down, 707)\n",
    "print('% dispatch down = {}'.format(round(per_dispactch_down,2)))\n"
   ]
  },
  {
   "cell_type": "code",
   "execution_count": 11,
   "id": "8a38294f",
   "metadata": {},
   "outputs": [
    {
     "name": "stdout",
     "output_type": "stream",
     "text": [
      "Only 11.84% of dispatch down in this data makes it to the final report\n"
     ]
    }
   ],
   "source": [
    "print('Only {}% of dispatch down in this data makes it to the final report'.format(round(707/(all_ireland['Curtailment'].sum()/1000)*100,2)))"
   ]
  },
  {
   "cell_type": "code",
   "execution_count": 12,
   "id": "c3f5ba05",
   "metadata": {},
   "outputs": [],
   "source": [
    "#Making these figures agree with what was in the report\n",
    "scaling_factor = 12.1/per_dispactch_down\n",
    "all_ireland['Curtailment'] = all_ireland['Curtailment']*scaling_factor"
   ]
  },
  {
   "cell_type": "code",
   "execution_count": 13,
   "id": "88cf224b",
   "metadata": {},
   "outputs": [
    {
     "data": {
      "text/plain": [
       "8844331.476758251"
      ]
     },
     "execution_count": 13,
     "metadata": {},
     "output_type": "execute_result"
    }
   ],
   "source": [
    "all_ireland['Curtailment'].sum() #closer now"
   ]
  },
  {
   "cell_type": "markdown",
   "id": "3a064ea5",
   "metadata": {},
   "source": [
    "## Price data"
   ]
  },
  {
   "cell_type": "code",
   "execution_count": 14,
   "id": "4880bc53",
   "metadata": {},
   "outputs": [],
   "source": [
    "#Start arranging the price data here, have only used the Day ahead market really\n",
    "prices = market_prices[market_prices['auction'] == 'DAM']\n",
    "prices.index = pd.to_datetime(prices['timestamp'])"
   ]
  },
  {
   "cell_type": "code",
   "execution_count": 15,
   "id": "d15600ae",
   "metadata": {},
   "outputs": [
    {
     "data": {
      "text/plain": [
       "3.1067685921125907"
      ]
     },
     "execution_count": 15,
     "metadata": {},
     "output_type": "execute_result"
    }
   ],
   "source": [
    "61368/19753"
   ]
  },
  {
   "cell_type": "code",
   "execution_count": 16,
   "id": "26e8cd05",
   "metadata": {},
   "outputs": [],
   "source": [
    "prices = pd.concat([prices]*3)"
   ]
  },
  {
   "cell_type": "code",
   "execution_count": 17,
   "id": "11370682",
   "metadata": {},
   "outputs": [],
   "source": [
    "prices.index = all_ireland.index[0:len(prices)]\n",
    "all_ireland['Day Ahead Price'] = prices['price_eur']\n",
    "all_ireland = all_ireland.dropna()"
   ]
  },
  {
   "cell_type": "code",
   "execution_count": 18,
   "id": "960c4a59",
   "metadata": {},
   "outputs": [
    {
     "data": {
      "text/html": [
       "<div>\n",
       "<style scoped>\n",
       "    .dataframe tbody tr th:only-of-type {\n",
       "        vertical-align: middle;\n",
       "    }\n",
       "\n",
       "    .dataframe tbody tr th {\n",
       "        vertical-align: top;\n",
       "    }\n",
       "\n",
       "    .dataframe thead th {\n",
       "        text-align: right;\n",
       "    }\n",
       "</style>\n",
       "<table border=\"1\" class=\"dataframe\">\n",
       "  <thead>\n",
       "    <tr style=\"text-align: right;\">\n",
       "      <th></th>\n",
       "      <th>Wind Availability</th>\n",
       "      <th>Wind Generation</th>\n",
       "      <th>Demand</th>\n",
       "      <th>SNSP</th>\n",
       "      <th>Curtailment</th>\n",
       "      <th>Day Ahead Price</th>\n",
       "    </tr>\n",
       "    <tr>\n",
       "      <th>DateTime</th>\n",
       "      <th></th>\n",
       "      <th></th>\n",
       "      <th></th>\n",
       "      <th></th>\n",
       "      <th></th>\n",
       "      <th></th>\n",
       "    </tr>\n",
       "  </thead>\n",
       "  <tbody>\n",
       "    <tr>\n",
       "      <th>2014-01-01 00:00:00</th>\n",
       "      <td>1346.68750</td>\n",
       "      <td>1319.68000</td>\n",
       "      <td>3690.03000</td>\n",
       "      <td>0.447850</td>\n",
       "      <td>39.990033</td>\n",
       "      <td>71.267</td>\n",
       "    </tr>\n",
       "    <tr>\n",
       "      <th>2014-01-01 01:00:00</th>\n",
       "      <td>1249.91750</td>\n",
       "      <td>1223.03000</td>\n",
       "      <td>3458.19500</td>\n",
       "      <td>0.445550</td>\n",
       "      <td>39.812349</td>\n",
       "      <td>67.212</td>\n",
       "    </tr>\n",
       "    <tr>\n",
       "      <th>2014-01-01 02:00:00</th>\n",
       "      <td>1221.41500</td>\n",
       "      <td>1209.65000</td>\n",
       "      <td>3173.09000</td>\n",
       "      <td>0.467150</td>\n",
       "      <td>17.420448</td>\n",
       "      <td>60.500</td>\n",
       "    </tr>\n",
       "    <tr>\n",
       "      <th>2014-01-01 03:00:00</th>\n",
       "      <td>1187.72250</td>\n",
       "      <td>1164.42750</td>\n",
       "      <td>2955.87250</td>\n",
       "      <td>0.455700</td>\n",
       "      <td>34.492931</td>\n",
       "      <td>63.682</td>\n",
       "    </tr>\n",
       "    <tr>\n",
       "      <th>2014-01-01 04:00:00</th>\n",
       "      <td>1158.63000</td>\n",
       "      <td>1132.23250</td>\n",
       "      <td>2803.02500</td>\n",
       "      <td>0.409050</td>\n",
       "      <td>39.086805</td>\n",
       "      <td>71.617</td>\n",
       "    </tr>\n",
       "    <tr>\n",
       "      <th>...</th>\n",
       "      <td>...</td>\n",
       "      <td>...</td>\n",
       "      <td>...</td>\n",
       "      <td>...</td>\n",
       "      <td>...</td>\n",
       "      <td>...</td>\n",
       "    </tr>\n",
       "    <tr>\n",
       "      <th>2020-10-04 22:00:00</th>\n",
       "      <td>2688.76400</td>\n",
       "      <td>2102.41375</td>\n",
       "      <td>3899.72400</td>\n",
       "      <td>0.428450</td>\n",
       "      <td>868.209420</td>\n",
       "      <td>69.550</td>\n",
       "    </tr>\n",
       "    <tr>\n",
       "      <th>2020-10-04 23:00:00</th>\n",
       "      <td>2747.18650</td>\n",
       "      <td>2198.26025</td>\n",
       "      <td>3488.48300</td>\n",
       "      <td>0.469725</td>\n",
       "      <td>812.795665</td>\n",
       "      <td>64.280</td>\n",
       "    </tr>\n",
       "    <tr>\n",
       "      <th>2020-10-05 00:00:00</th>\n",
       "      <td>2824.28275</td>\n",
       "      <td>2305.33225</td>\n",
       "      <td>3300.55650</td>\n",
       "      <td>0.513225</td>\n",
       "      <td>768.410541</td>\n",
       "      <td>62.660</td>\n",
       "    </tr>\n",
       "    <tr>\n",
       "      <th>2020-10-05 01:00:00</th>\n",
       "      <td>2871.29850</td>\n",
       "      <td>2292.90800</td>\n",
       "      <td>3144.34600</td>\n",
       "      <td>0.529825</td>\n",
       "      <td>856.423410</td>\n",
       "      <td>56.900</td>\n",
       "    </tr>\n",
       "    <tr>\n",
       "      <th>2020-10-05 02:00:00</th>\n",
       "      <td>3036.31500</td>\n",
       "      <td>2327.73050</td>\n",
       "      <td>3057.04975</td>\n",
       "      <td>0.550425</td>\n",
       "      <td>1049.201800</td>\n",
       "      <td>50.700</td>\n",
       "    </tr>\n",
       "  </tbody>\n",
       "</table>\n",
       "<p>59259 rows × 6 columns</p>\n",
       "</div>"
      ],
      "text/plain": [
       "                     Wind Availability  Wind Generation      Demand      SNSP  \\\n",
       "DateTime                                                                        \n",
       "2014-01-01 00:00:00         1346.68750       1319.68000  3690.03000  0.447850   \n",
       "2014-01-01 01:00:00         1249.91750       1223.03000  3458.19500  0.445550   \n",
       "2014-01-01 02:00:00         1221.41500       1209.65000  3173.09000  0.467150   \n",
       "2014-01-01 03:00:00         1187.72250       1164.42750  2955.87250  0.455700   \n",
       "2014-01-01 04:00:00         1158.63000       1132.23250  2803.02500  0.409050   \n",
       "...                                ...              ...         ...       ...   \n",
       "2020-10-04 22:00:00         2688.76400       2102.41375  3899.72400  0.428450   \n",
       "2020-10-04 23:00:00         2747.18650       2198.26025  3488.48300  0.469725   \n",
       "2020-10-05 00:00:00         2824.28275       2305.33225  3300.55650  0.513225   \n",
       "2020-10-05 01:00:00         2871.29850       2292.90800  3144.34600  0.529825   \n",
       "2020-10-05 02:00:00         3036.31500       2327.73050  3057.04975  0.550425   \n",
       "\n",
       "                     Curtailment  Day Ahead Price  \n",
       "DateTime                                           \n",
       "2014-01-01 00:00:00    39.990033           71.267  \n",
       "2014-01-01 01:00:00    39.812349           67.212  \n",
       "2014-01-01 02:00:00    17.420448           60.500  \n",
       "2014-01-01 03:00:00    34.492931           63.682  \n",
       "2014-01-01 04:00:00    39.086805           71.617  \n",
       "...                          ...              ...  \n",
       "2020-10-04 22:00:00   868.209420           69.550  \n",
       "2020-10-04 23:00:00   812.795665           64.280  \n",
       "2020-10-05 00:00:00   768.410541           62.660  \n",
       "2020-10-05 01:00:00   856.423410           56.900  \n",
       "2020-10-05 02:00:00  1049.201800           50.700  \n",
       "\n",
       "[59259 rows x 6 columns]"
      ]
     },
     "execution_count": 18,
     "metadata": {},
     "output_type": "execute_result"
    }
   ],
   "source": [
    "all_ireland"
   ]
  },
  {
   "cell_type": "markdown",
   "id": "636a1e44",
   "metadata": {},
   "source": [
    "# Actual model"
   ]
  },
  {
   "cell_type": "code",
   "execution_count": 19,
   "id": "034472d4",
   "metadata": {},
   "outputs": [],
   "source": [
    "class storage:\n",
    "    def __init__(self,capacity_cost,power_cost,efficiency,hours_of_storage,capacity,asset_life,power,\n",
    "                self_discharge_rate=None):\n",
    "        self.capacity_cost = capacity_cost\n",
    "        self.power_cost = power_cost\n",
    "        self.efficiency = efficiency\n",
    "        self.hours_of_storage = hours_of_storage\n",
    "        self.capacity = capacity\n",
    "        self.power = power\n",
    "        self.asset_life = asset_life\n",
    "        self.self_discharge_rate = self_discharge_rate"
   ]
  },
  {
   "cell_type": "code",
   "execution_count": 20,
   "id": "f8720fb9",
   "metadata": {},
   "outputs": [],
   "source": [
    "#Define the different technologys\n",
    "iron_air = storage(capacity_cost=10.75,power_cost=1075,efficiency=.45,hours_of_storage=100,capacity=100,power=1000,\n",
    "                   asset_life=10,self_discharge_rate=None)\n",
    "\n",
    "li_ion = storage(capacity_cost=324,power_cost=1296,efficiency=.9,hours_of_storage=4,capacity=100,power=1000,\n",
    "                   asset_life=10,self_discharge_rate=None)\n",
    "\n",
    "storage_ops = [iron_air, li_ion]\n",
    "names = ['Iron-Air Battery', 'Lithium-Ion Battery']"
   ]
  },
  {
   "cell_type": "code",
   "execution_count": 21,
   "id": "3c625a57",
   "metadata": {},
   "outputs": [],
   "source": [
    "class simulation:\n",
    "    def __init__(self, data, storage):\n",
    "        #This should bring in the data\n",
    "        self.data = data\n",
    "        self.storage = storage\n",
    "    \n",
    "    def run(self):\n",
    "        self.data = self.data.dropna()\n",
    "        self.data.index = range(1,len(self.data)+1)\n",
    "        #Create the model\n",
    "        model = ConcreteModel()\n",
    "\n",
    "        #Everything will be done in timesteps\n",
    "        model.t = RangeSet(len(self.data))\n",
    "\n",
    "        #Define a few parameters that will model on the constraints\n",
    "        model.e_available = Param(model.t, initialize=self.data['Curtailment'])\n",
    "        model.efficiency = Param(initialize=self.storage.efficiency)\n",
    "        model.price = Param(model.t, initialize=self.data['Day Ahead Price'])\n",
    "        model.max_out = Param(model.t, initialize=self.data['Demand'] - self.data['Wind Generation'])\n",
    "\n",
    "        #The variables of the problem\n",
    "        model.charge = Var(model.t, domain=NonNegativeReals)\n",
    "        model.e_in = Var(model.t, domain=NonNegativeReals) #this is the amount of energy not curtailed\n",
    "        model.e_out = Var(model.t, domain=NonNegativeReals)\n",
    "        model.capacity = Var(domain=NonNegativeReals) \n",
    "        model.power = Var(domain=NonNegativeReals)\n",
    "\n",
    "        #The battery charge is equal to previous time step plus charge minus discharge, tick\n",
    "        def state_of_charge(model,t):\n",
    "            if t == 1:\n",
    "                return model.charge[t] == 0\n",
    "            else:\n",
    "                return model.charge[t] == model.charge[t-1] + model.e_in[t-1]*model.efficiency - model.e_out[t-1]\n",
    "        model.soc = Constraint(model.t, rule=state_of_charge)\n",
    "        \n",
    "        #Charge of the battery can't exceed the capacity, tick\n",
    "        def max_charge(model, t):\n",
    "            return model.charge[t] <= model.capacity\n",
    "        model.max_charge = Constraint(model.t, rule=max_charge)\n",
    "\n",
    "        #Power in can't exceed the rate limit combined with effiency, tick\n",
    "        def power_in(model,t): \n",
    "            return model.e_in[t] <= model.power\n",
    "        model.pow_in = Constraint(model.t, rule=power_in)\n",
    "        \n",
    "        #Power out can't exceed the rate limit combined with effiency, tick\n",
    "        def power_out(model,t):\n",
    "            return model.e_out[t] <= model.power\n",
    "        model.pow_out = Constraint(model.t, rule=power_out)\n",
    "        \n",
    "        #Charging of the battery must be less than or equal to the amount of energy available\n",
    "        def charging_con(model,t):\n",
    "            return model.e_in[t] <= model.e_available[t]\n",
    "        model.con1 = Constraint(model.t, rule=charging_con)\n",
    "        \n",
    "        #Discharging of the battery must be less than or equal to the amount of energy available\n",
    "        def discharging_con(model,t): \n",
    "            return model.e_out[t] <= model.charge[t]\n",
    "        model.con2 = Constraint(model.t, rule=discharging_con)\n",
    "        \n",
    "        #The hours of storage chosen must be less than or equal to the technology allows\n",
    "        def storage_hours(model):\n",
    "            return model.power == model.capacity/self.storage.hours_of_storage\n",
    "        model.con3 = Constraint(rule=storage_hours)\n",
    "        \n",
    "        #Wanted to reduce the massive discharges, can only output demand - wind at once\n",
    "        def max_output(model,t): \n",
    "            return model.e_out[t] <= model.max_out[t]\n",
    "        model.con4 = Constraint(model.t, rule=max_output)\n",
    "        \n",
    "        #objective function, minimize the cost of the system. Want to include curtailment in some way\n",
    "        profit = sum(model.price[t]*model.e_out[t] for t in model.t) - self.storage.capacity_cost*model.capacity\n",
    "        model.obj = Objective(expr=profit, sense=maximize)\n",
    "\n",
    "        # Solve the model\n",
    "        solver = SolverFactory('glpk')\n",
    "        results = solver.solve(model, tee=True)\n",
    "        \n",
    "        return model\n"
   ]
  },
  {
   "cell_type": "code",
   "execution_count": 22,
   "id": "cebe62c4",
   "metadata": {
    "scrolled": true
   },
   "outputs": [
    {
     "name": "stdout",
     "output_type": "stream",
     "text": [
      "GLPSOL--GLPK LP/MIP Solver 5.0\n",
      "Parameter(s) specified in the command line:\n",
      " --write C:\\Users\\shane\\AppData\\Local\\Temp\\tmpjci9um6t.glpk.raw --wglp C:\\Users\\shane\\AppData\\Local\\Temp\\tmpclhz7oba.glpk.glp\n",
      " --cpxlp C:\\Users\\shane\\AppData\\Local\\Temp\\tmprpkxjwr3.pyomo.lp\n",
      "Reading problem data from 'C:\\Users\\shane\\AppData\\Local\\Temp\\tmprpkxjwr3.pyomo.lp'...\n",
      "414815 rows, 177780 columns, 829626 non-zeros\n",
      "2310428 lines were read\n",
      "Writing problem data to 'C:\\Users\\shane\\AppData\\Local\\Temp\\tmpclhz7oba.glpk.glp'...\n",
      "1836349 lines were written\n",
      "GLPK Simplex Optimizer 5.0\n",
      "414815 rows, 177780 columns, 829626 non-zeros\n",
      "Preprocessing...\n",
      "294442 rows, 175927 columns, 705548 non-zeros\n",
      "Scaling...\n",
      " A: min|aij| =  1.000e-02  max|aij| =  1.000e+00  ratio =  1.000e+02\n",
      "GM: min|aij| =  4.940e-01  max|aij| =  2.024e+00  ratio =  4.098e+00\n",
      "EQ: min|aij| =  2.440e-01  max|aij| =  1.000e+00  ratio =  4.098e+00\n",
      "Constructing initial basis...\n",
      "Size of triangular part is 294442\n",
      "*     0: obj =  -0.000000000e+00 inf =   0.000e+00 (56326)\n",
      "*   453: obj =   1.031309142e+06 inf =   1.326e-14 (56244) 3\n",
      "*   928: obj =   4.507269412e+06 inf =   5.341e-13 (56049) 3\n",
      "*  1505: obj =   1.037710053e+07 inf =   5.238e-13 (55700) 4\n",
      "*  2014: obj =   1.606643058e+07 inf =   4.528e-13 (55171) 1\n",
      "*  2530: obj =   2.156394421e+07 inf =   3.413e-13 (54910) 1\n",
      "*  3074: obj =   2.633347089e+07 inf =   1.345e-13 (53907)\n",
      "*  3603: obj =   2.982667170e+07 inf =   5.699e-14 (53351)\n",
      "*  4221: obj =   3.499150967e+07 inf =   7.120e-14 (52733)\n",
      "*  4903: obj =   3.967305428e+07 inf =   7.120e-14 (52294)\n",
      "*  5605: obj =   4.582986438e+07 inf =   1.478e-12 (51510) 1\n",
      "*  6328: obj =   5.053367273e+07 inf =   1.458e-12 (50824)\n",
      "*  7048: obj =   5.617679719e+07 inf =   1.355e-12 (50298)\n",
      "*  7764: obj =   6.304136739e+07 inf =   1.355e-12 (49998)\n",
      "*  8475: obj =   6.775211153e+07 inf =   1.355e-12 (49192)\n",
      "*  9188: obj =   7.339585625e+07 inf =   4.531e-13 (48214) 1\n",
      "*  9883: obj =   8.022624075e+07 inf =   4.514e-13 (47950)\n",
      "* 10600: obj =   8.584747688e+07 inf =   4.514e-13 (47620)\n",
      "* 11296: obj =   9.152913634e+07 inf =   4.514e-13 (46978)\n",
      "* 11989: obj =   9.710932267e+07 inf =   2.245e-12 (46384) 1\n",
      "* 12596: obj =   1.016693318e+08 inf =   2.243e-12 (46034)\n",
      "* 13285: obj =   1.055216301e+08 inf =   2.227e-12 (45787)\n",
      "* 13974: obj =   1.112074246e+08 inf =   2.204e-12 (44833)\n",
      "* 14642: obj =   1.156314835e+08 inf =   2.392e-13 (44376) 1\n",
      "* 15331: obj =   1.202756519e+08 inf =   2.388e-13 (43391)\n",
      "* 16021: obj =   1.254182575e+08 inf =   2.388e-13 (43490)\n",
      "* 16692: obj =   1.309580777e+08 inf =   2.352e-13 (42478)\n",
      "* 17260: obj =   1.358189670e+08 inf =   1.215e-13 (42337)\n",
      "* 17869: obj =   1.393455951e+08 inf =   9.385e-13 (41527) 1\n",
      "* 18532: obj =   1.435431309e+08 inf =   5.249e-13 (40655)\n",
      "* 19190: obj =   1.480774675e+08 inf =   5.249e-13 (41124)\n",
      "* 19856: obj =   1.523067193e+08 inf =   1.534e-12 (39854)\n",
      "* 20521: obj =   1.566011337e+08 inf =   6.761e-13 (39627) 1\n",
      "* 21205: obj =   1.617785588e+08 inf =   6.761e-13 (39599)\n",
      "* 21892: obj =   1.662019587e+08 inf =   6.761e-13 (38150)\n",
      "* 22563: obj =   1.719547514e+08 inf =   1.477e-12 (38678) 1\n",
      "* 23239: obj =   1.773061178e+08 inf =   1.477e-12 (37347)\n",
      "* 23911: obj =   1.819608122e+08 inf =   1.477e-12 (37245)\n",
      "* 24580: obj =   1.877016193e+08 inf =   1.068e-12 (35921) 1\n",
      "* 25270: obj =   1.918809420e+08 inf =   1.068e-12 (35702)\n",
      "* 25942: obj =   1.969308464e+08 inf =   1.016e-12 (34689)\n",
      "* 26608: obj =   2.009817409e+08 inf =   2.070e-12 (34540) 1\n",
      "* 27295: obj =   2.059924486e+08 inf =   2.089e-12 (33964)\n",
      "* 27963: obj =   2.099750363e+08 inf =   1.778e-12 (33596)\n",
      "* 28625: obj =   2.149565990e+08 inf =   1.370e-12 (32565) 1\n",
      "* 29233: obj =   2.207741020e+08 inf =   1.387e-12 (32382)\n",
      "* 29877: obj =   2.252939420e+08 inf =   1.576e-12 (30994)\n",
      "* 30542: obj =   2.304930126e+08 inf =   2.021e-12 (30739) 1\n",
      "* 31191: obj =   2.349910261e+08 inf =   1.938e-12 (29868) 1\n",
      "* 31848: obj =   2.391885469e+08 inf =   1.711e-12 (31204)\n",
      "* 32495: obj =   2.438971676e+08 inf =   1.653e-12 (29921)\n",
      "* 33148: obj =   2.479492970e+08 inf =   1.308e-12 (28853) 1\n",
      "* 33817: obj =   2.521167582e+08 inf =   1.304e-12 (27790)\n",
      "* 34492: obj =   2.558418370e+08 inf =   1.304e-12 (28232)\n",
      "* 35136: obj =   2.593670928e+08 inf =   2.055e-12 (25947) 1\n",
      "* 35774: obj =   2.629247017e+08 inf =   1.951e-12 (25594)\n",
      "* 36434: obj =   2.664986852e+08 inf =   1.951e-12 (25482)\n",
      "* 37124: obj =   2.702828706e+08 inf =   1.300e-12 (24749)\n",
      "* 37816: obj =   2.743458947e+08 inf =   8.201e-13 (24613) 1\n",
      "* 38512: obj =   2.780311295e+08 inf =   7.600e-13 (29854)\n",
      "* 39177: obj =   2.822505249e+08 inf =   1.463e-12 (23486) 1\n",
      "* 39865: obj =   2.870143506e+08 inf =   1.463e-12 (22156)\n",
      "* 40543: obj =   2.918311884e+08 inf =   1.660e-12 (22030) 1\n",
      "* 41225: obj =   2.972210754e+08 inf =   1.349e-12 (21411)\n",
      "* 41892: obj =   3.017497299e+08 inf =   8.250e-13 (19737) 1\n",
      "* 42582: obj =   3.066900734e+08 inf =   8.174e-13 (21898)\n",
      "* 43263: obj =   3.110302469e+08 inf =   1.627e-12 (19203) 1\n",
      "* 43903: obj =   3.141870200e+08 inf =   1.623e-12 (18032)\n",
      "* 44545: obj =   3.179935156e+08 inf =   1.716e-12 (17639) 1\n",
      "* 45180: obj =   3.225248024e+08 inf =   1.684e-12 (16991)\n",
      "* 45702: obj =   3.255962281e+08 inf =   5.232e-13 (16937) 1\n",
      "* 46219: obj =   3.286106256e+08 inf =   4.974e-13 (18682)\n",
      "* 46788: obj =   3.327273850e+08 inf =   3.810e-13 (15569)\n",
      "* 47452: obj =   3.367913424e+08 inf =   5.346e-13 (15239) 1\n",
      "* 48108: obj =   3.415670887e+08 inf =   6.122e-13 (14219) 1\n",
      "* 48743: obj =   3.444677809e+08 inf =   6.122e-13 (13797)\n",
      "* 49416: obj =   3.475732881e+08 inf =   8.670e-13 (14624) 1\n",
      "* 50104: obj =   3.502376278e+08 inf =   8.670e-13 (12335)\n",
      "* 50780: obj =   3.536364899e+08 inf =   2.898e-13 (12014) 1\n",
      "* 51451: obj =   3.572974510e+08 inf =   6.464e-13 (11250) 1\n",
      "* 52122: obj =   3.611967381e+08 inf =   5.546e-13 (10547) 1\n",
      "* 52771: obj =   3.641070894e+08 inf =   5.538e-13 (17254)\n",
      "* 53446: obj =   3.676647431e+08 inf =   4.916e-13 (11867) 1\n",
      "* 54104: obj =   3.710104284e+08 inf =   2.722e-13 (8874) 1\n",
      "* 54744: obj =   3.733126348e+08 inf =   4.721e-13 (8464) 1\n",
      "* 55312: obj =   3.772153671e+08 inf =   4.721e-13 (8384)\n",
      "* 55851: obj =   3.793915137e+08 inf =   3.722e-13 (7869) 1\n",
      "* 56487: obj =   3.821479608e+08 inf =   2.688e-13 (7373)\n",
      "* 57112: obj =   3.846585460e+08 inf =   9.474e-13 (7341) 1\n",
      "* 57744: obj =   3.881916992e+08 inf =   8.957e-13 (6187)\n",
      "* 58355: obj =   3.923820452e+08 inf =   9.829e-13 (9716) 1\n",
      "* 58987: obj =   3.959190180e+08 inf =   3.431e-13 (5080) 1\n",
      "* 59626: obj =   4.009649210e+08 inf =   9.056e-14 (5697) 1\n",
      "* 60279: obj =   4.048285047e+08 inf =   3.883e-14 (3804) 1\n",
      "* 60892: obj =   4.074133911e+08 inf =   3.883e-14 (3317)\n",
      "* 61526: obj =   4.126198418e+08 inf =   4.654e-13 (3948) 1\n",
      "* 62142: obj =   4.167388644e+08 inf =   2.085e-13 (2499) 1\n",
      "* 62820: obj =   4.205134418e+08 inf =   1.671e-15 (3540) 2\n",
      "* 63494: obj =   4.270902044e+08 inf =   3.287e-15 (1669) 1\n",
      "* 64176: obj =   4.390680094e+08 inf =   0.000e+00 (919) 2\n",
      "* 64860: obj =   4.640447753e+08 inf =   0.000e+00 (6213) 2\n",
      "* 65566: obj =   4.857462898e+08 inf =   0.000e+00 (206) 2\n",
      "* 65830: obj =   4.896055297e+08 inf =   1.455e-11 (0) 1\n",
      "OPTIMAL LP SOLUTION FOUND\n",
      "Time used:   508.9 secs\n",
      "Memory used: 392.2 Mb (411258391 bytes)\n",
      "Writing basic solution to 'C:\\Users\\shane\\AppData\\Local\\Temp\\tmpjci9um6t.glpk.raw'...\n",
      "592604 lines were written\n",
      "GLPSOL--GLPK LP/MIP Solver 5.0\n",
      "Parameter(s) specified in the command line:\n",
      " --write C:\\Users\\shane\\AppData\\Local\\Temp\\tmpxgm97vuq.glpk.raw --wglp C:\\Users\\shane\\AppData\\Local\\Temp\\tmpve4w4wu1.glpk.glp\n",
      " --cpxlp C:\\Users\\shane\\AppData\\Local\\Temp\\tmpzi464g5g.pyomo.lp\n",
      "Reading problem data from 'C:\\Users\\shane\\AppData\\Local\\Temp\\tmpzi464g5g.pyomo.lp'...\n",
      "414815 rows, 177780 columns, 829626 non-zeros\n",
      "2310428 lines were read\n",
      "Writing problem data to 'C:\\Users\\shane\\AppData\\Local\\Temp\\tmpve4w4wu1.glpk.glp'...\n",
      "1836349 lines were written\n",
      "GLPK Simplex Optimizer 5.0\n",
      "414815 rows, 177780 columns, 829626 non-zeros\n",
      "Preprocessing...\n",
      "294442 rows, 175927 columns, 705548 non-zeros\n",
      "Scaling...\n",
      " A: min|aij| =  2.500e-01  max|aij| =  1.000e+00  ratio =  4.000e+00\n",
      "Problem data seem to be well scaled\n",
      "Constructing initial basis...\n",
      "Size of triangular part is 294442\n",
      "*     0: obj =  -0.000000000e+00 inf =   0.000e+00 (56326)\n"
     ]
    },
    {
     "name": "stdout",
     "output_type": "stream",
     "text": [
      "*   626: obj =   3.266812758e+06 inf =   0.000e+00 (56162) 2\n",
      "*  1184: obj =   8.343807881e+06 inf =   0.000e+00 (55918) 1\n",
      "*  1715: obj =   1.584622134e+07 inf =   0.000e+00 (55434) 2\n",
      "*  2270: obj =   2.065430776e+07 inf =   0.000e+00 (55109)\n",
      "*  2822: obj =   2.627451143e+07 inf =   0.000e+00 (54678) 2\n",
      "*  3468: obj =   3.270812869e+07 inf =   0.000e+00 (54199)\n",
      "*  4003: obj =   3.727284055e+07 inf =   0.000e+00 (53842) 1\n",
      "*  4555: obj =   4.454207677e+07 inf =   0.000e+00 (53256) 1\n",
      "*  5105: obj =   5.000762574e+07 inf =   0.000e+00 (52848)\n",
      "*  5668: obj =   5.754560448e+07 inf =   0.000e+00 (52415) 1\n",
      "*  6322: obj =   6.523095545e+07 inf =   0.000e+00 (51745)\n",
      "*  6969: obj =   7.214729818e+07 inf =   0.000e+00 (51378) 1\n",
      "*  7623: obj =   7.990522430e+07 inf =   0.000e+00 (50769) 1\n",
      "*  8279: obj =   8.630442706e+07 inf =   0.000e+00 (50226)\n",
      "*  8930: obj =   9.396184704e+07 inf =   0.000e+00 (49549) 1\n",
      "*  9579: obj =   1.016609496e+08 inf =   0.000e+00 (49196) 1\n",
      "* 10229: obj =   1.077748818e+08 inf =   0.000e+00 (48605) 1\n",
      "* 10869: obj =   1.150212634e+08 inf =   0.000e+00 (47974)\n",
      "* 11501: obj =   1.201453811e+08 inf =   0.000e+00 (47520) 1\n",
      "* 12165: obj =   1.266572530e+08 inf =   0.000e+00 (46967)\n",
      "* 12817: obj =   1.324479439e+08 inf =   0.000e+00 (46486) 1\n",
      "* 13465: obj =   1.377303868e+08 inf =   0.000e+00 (45931)\n",
      "* 14094: obj =   1.434056072e+08 inf =   0.000e+00 (45455) 1\n",
      "* 14725: obj =   1.487343640e+08 inf =   0.000e+00 (44826) 1\n",
      "* 15375: obj =   1.540338628e+08 inf =   0.000e+00 (44288)\n",
      "* 16015: obj =   1.595490949e+08 inf =   0.000e+00 (43795) 1\n",
      "* 16648: obj =   1.659147666e+08 inf =   0.000e+00 (43266) 1\n",
      "* 17283: obj =   1.710925208e+08 inf =   0.000e+00 (42792)\n",
      "* 17911: obj =   1.771939212e+08 inf =   0.000e+00 (42313) 1\n",
      "* 18538: obj =   1.830543910e+08 inf =   0.000e+00 (41750) 1\n",
      "* 19171: obj =   1.894224273e+08 inf =   0.000e+00 (41220) 1\n",
      "* 19808: obj =   1.961516429e+08 inf =   0.000e+00 (40740)\n",
      "* 20447: obj =   2.035085614e+08 inf =   0.000e+00 (40222) 1\n",
      "* 21068: obj =   2.097614814e+08 inf =   0.000e+00 (40067) 1\n",
      "* 21678: obj =   2.164644109e+08 inf =   0.000e+00 (39317) 1\n",
      "* 22292: obj =   2.221155103e+08 inf =   0.000e+00 (39285) 1\n",
      "* 22925: obj =   2.285520763e+08 inf =   0.000e+00 (38357) 1\n",
      "* 23559: obj =   2.355515855e+08 inf =   0.000e+00 (37836) 1\n",
      "* 24185: obj =   2.420041825e+08 inf =   0.000e+00 (37871) 1\n",
      "* 24824: obj =   2.489212736e+08 inf =   0.000e+00 (36936)\n",
      "* 25448: obj =   2.544460145e+08 inf =   0.000e+00 (36518) 1\n",
      "* 26070: obj =   2.595643885e+08 inf =   0.000e+00 (35993) 1\n",
      "* 26703: obj =   2.661315389e+08 inf =   0.000e+00 (35333) 1\n",
      "* 27327: obj =   2.719831719e+08 inf =   0.000e+00 (35093) 1\n",
      "* 27949: obj =   2.773954115e+08 inf =   0.000e+00 (34312) 1\n",
      "* 28575: obj =   2.835205811e+08 inf =   0.000e+00 (33976)\n",
      "* 29161: obj =   2.886853533e+08 inf =   0.000e+00 (33619) 1\n",
      "* 29696: obj =   2.947108913e+08 inf =   0.000e+00 (33198) 1\n",
      "* 30286: obj =   3.007056162e+08 inf =   0.000e+00 (32805) 1\n",
      "* 30885: obj =   3.060320599e+08 inf =   0.000e+00 (32228) 1\n",
      "* 31530: obj =   3.121604924e+08 inf =   0.000e+00 (32068) 1\n",
      "* 32164: obj =   3.168660858e+08 inf =   0.000e+00 (31412) 1\n",
      "* 32783: obj =   3.226372977e+08 inf =   0.000e+00 (31193) 1\n",
      "* 33380: obj =   3.269359259e+08 inf =   0.000e+00 (30285) 1\n",
      "* 34005: obj =   3.321700602e+08 inf =   0.000e+00 (29890) 1\n",
      "* 34637: obj =   3.381037514e+08 inf =   0.000e+00 (29754) 1\n",
      "* 35262: obj =   3.424030034e+08 inf =   0.000e+00 (29455) 1\n",
      "* 35893: obj =   3.476408423e+08 inf =   0.000e+00 (28898)\n",
      "* 36513: obj =   3.522923221e+08 inf =   0.000e+00 (27980) 1\n",
      "* 37136: obj =   3.554771229e+08 inf =   0.000e+00 (27601) 1\n",
      "* 37764: obj =   3.611079731e+08 inf =   0.000e+00 (26876) 1\n",
      "* 38393: obj =   3.656821470e+08 inf =   0.000e+00 (26452) 1\n",
      "* 38975: obj =   3.696650600e+08 inf =   0.000e+00 (26006) 1\n",
      "* 39514: obj =   3.725395505e+08 inf =   0.000e+00 (25796) 1\n",
      "* 40004: obj =   3.760155419e+08 inf =   0.000e+00 (25360) 1\n",
      "* 40567: obj =   3.792138078e+08 inf =   0.000e+00 (24888)\n",
      "* 41122: obj =   3.827577939e+08 inf =   0.000e+00 (24207) 1\n",
      "* 41673: obj =   3.870235524e+08 inf =   0.000e+00 (24153) 1\n",
      "* 42218: obj =   3.916928384e+08 inf =   0.000e+00 (24046) 2\n",
      "* 42839: obj =   3.968465131e+08 inf =   0.000e+00 (23679) 1\n",
      "* 43405: obj =   4.017276384e+08 inf =   0.000e+00 (22833) 1\n",
      "* 44019: obj =   4.064969766e+08 inf =   0.000e+00 (22213) 1\n",
      "* 44644: obj =   4.115488865e+08 inf =   0.000e+00 (21974) 1\n",
      "* 45259: obj =   4.158509056e+08 inf =   0.000e+00 (21568) 2\n",
      "* 45886: obj =   4.205490939e+08 inf =   0.000e+00 (20732) 1\n",
      "* 46498: obj =   4.251300009e+08 inf =   0.000e+00 (20373) 1\n",
      "* 47103: obj =   4.299782578e+08 inf =   0.000e+00 (19803) 2\n",
      "* 47721: obj =   4.373390896e+08 inf =   0.000e+00 (19983)\n",
      "* 48316: obj =   4.421775673e+08 inf =   0.000e+00 (19186) 2\n",
      "* 48932: obj =   4.472014989e+08 inf =   0.000e+00 (18737) 2\n",
      "* 49538: obj =   4.511378339e+08 inf =   0.000e+00 (18398) 1\n",
      "* 50164: obj =   4.554212487e+08 inf =   0.000e+00 (17721) 1\n",
      "* 50779: obj =   4.615330380e+08 inf =   0.000e+00 (17940) 1\n",
      "* 51394: obj =   4.661670684e+08 inf =   0.000e+00 (17299) 2\n",
      "* 52023: obj =   4.710290862e+08 inf =   0.000e+00 (16472) 1\n",
      "* 52645: obj =   4.768105560e+08 inf =   0.000e+00 (16436) 1\n",
      "* 53252: obj =   4.808076176e+08 inf =   0.000e+00 (16010) 2\n",
      "* 53875: obj =   4.861142344e+08 inf =   0.000e+00 (15419) 2\n",
      "* 54499: obj =   4.906052074e+08 inf =   0.000e+00 (15052) 1\n",
      "* 55110: obj =   4.943553809e+08 inf =   0.000e+00 (14518) 2\n",
      "* 55726: obj =   4.992292528e+08 inf =   0.000e+00 (14461) 1\n",
      "* 56342: obj =   5.027502159e+08 inf =   0.000e+00 (14036) 2\n",
      "* 56952: obj =   5.071929977e+08 inf =   0.000e+00 (13435) 1\n",
      "* 57567: obj =   5.110370370e+08 inf =   0.000e+00 (12950) 1\n",
      "* 58154: obj =   5.139863889e+08 inf =   0.000e+00 (12662) 2\n",
      "* 58774: obj =   5.180696718e+08 inf =   0.000e+00 (12566) 1\n",
      "* 59388: obj =   5.232793949e+08 inf =   0.000e+00 (11888) 2\n",
      "* 59996: obj =   5.277338682e+08 inf =   0.000e+00 (11300) 1\n",
      "* 60591: obj =   5.323580016e+08 inf =   0.000e+00 (11484) 1\n",
      "* 61206: obj =   5.363200467e+08 inf =   0.000e+00 (10688) 2\n",
      "* 61818: obj =   5.411730219e+08 inf =   0.000e+00 (10354) 1\n",
      "* 62423: obj =   5.448943641e+08 inf =   0.000e+00 (10357) 2\n",
      "* 63022: obj =   5.489420012e+08 inf =   0.000e+00 (9247) 1\n",
      "* 63611: obj =   5.523227367e+08 inf =   0.000e+00 (9016) 1\n",
      "* 64224: obj =   5.549957451e+08 inf =   0.000e+00 (8546) 2\n",
      "* 64840: obj =   5.586527499e+08 inf =   0.000e+00 (8127) 1\n",
      "* 65449: obj =   5.621019832e+08 inf =   0.000e+00 (7966) 2\n",
      "* 66070: obj =   5.659934077e+08 inf =   0.000e+00 (7353) 2\n",
      "* 66659: obj =   5.693584253e+08 inf =   0.000e+00 (7172) 1\n",
      "* 67240: obj =   5.725795108e+08 inf =   0.000e+00 (6986) 2\n",
      "* 67853: obj =   5.775331247e+08 inf =   0.000e+00 (7068) 2\n",
      "* 68451: obj =   5.817384745e+08 inf =   0.000e+00 (6350) 1\n",
      "* 69052: obj =   5.866200615e+08 inf =   0.000e+00 (5758) 3\n",
      "* 69652: obj =   5.917066736e+08 inf =   0.000e+00 (5395) 1\n",
      "* 70233: obj =   5.960746922e+08 inf =   0.000e+00 (4980) 2\n",
      "* 70835: obj =   6.014347764e+08 inf =   0.000e+00 (4657) 2\n",
      "* 71441: obj =   6.049543936e+08 inf =   0.000e+00 (4693) 2\n",
      "* 72061: obj =   6.107253985e+08 inf =   0.000e+00 (4114) 2\n",
      "* 72702: obj =   6.159317482e+08 inf =   0.000e+00 (3671) 2\n",
      "* 73343: obj =   6.211245018e+08 inf =   0.000e+00 (3492) 2\n",
      "* 73983: obj =   6.294512804e+08 inf =   0.000e+00 (3777) 2\n",
      "* 74587: obj =   6.367786770e+08 inf =   0.000e+00 (4002) 2\n",
      "* 75122: obj =   6.434409909e+08 inf =   0.000e+00 (3054) 2\n",
      "* 75701: obj =   6.492082696e+08 inf =   0.000e+00 (2923) 2\n",
      "* 76253: obj =   6.539213855e+08 inf =   0.000e+00 (2601) 1\n",
      "* 76877: obj =   6.593478978e+08 inf =   0.000e+00 (2513) 2\n",
      "* 77425: obj =   6.647798556e+08 inf =   0.000e+00 (2396) 2\n",
      "* 78072: obj =   6.719599849e+08 inf =   0.000e+00 (2308) 2\n",
      "* 78695: obj =   6.778774665e+08 inf =   0.000e+00 (1832) 1\n",
      "* 79332: obj =   6.824555692e+08 inf =   0.000e+00 (1588) 2\n",
      "* 79960: obj =   6.867440980e+08 inf =   0.000e+00 (1406) 1\n",
      "* 80583: obj =   6.903854789e+08 inf =   0.000e+00 (1401) 2\n",
      "* 81112: obj =   6.947722980e+08 inf =   0.000e+00 (1099) 2\n",
      "* 81720: obj =   6.977779434e+08 inf =   0.000e+00 (771) 3\n",
      "* 82367: obj =   7.009012787e+08 inf =   0.000e+00 (759) 2\n",
      "* 82974: obj =   7.036676047e+08 inf =   0.000e+00 (200) 3\n"
     ]
    },
    {
     "name": "stdout",
     "output_type": "stream",
     "text": [
      "* 83196: obj =   7.039707501e+08 inf =   0.000e+00 (0) 1\n",
      "OPTIMAL LP SOLUTION FOUND\n",
      "Time used:   683.3 secs\n",
      "Memory used: 392.2 Mb (411258391 bytes)\n",
      "Writing basic solution to 'C:\\Users\\shane\\AppData\\Local\\Temp\\tmpxgm97vuq.glpk.raw'...\n",
      "592604 lines were written\n"
     ]
    }
   ],
   "source": [
    "results = []\n",
    "\n",
    "#for each storage option run the optimization\n",
    "for x in storage_ops:\n",
    "    sim = simulation(all_ireland, x)\n",
    "    model = sim.run()\n",
    "    results.append(model)"
   ]
  },
  {
   "cell_type": "code",
   "execution_count": 23,
   "id": "84ab6408",
   "metadata": {},
   "outputs": [],
   "source": [
    "#try and bring these for each storage option\n",
    "opt_results = {}\n",
    "j = 0\n",
    "\n",
    "for opt in results:\n",
    "    charge = []\n",
    "    e_in = []\n",
    "    e_out = []\n",
    "    \n",
    "    #grab all the values from the model\n",
    "    for i in range(1,len(all_ireland)):\n",
    "        charge.append(value(opt.charge[i]))\n",
    "        e_in.append(value(opt.e_in[i]))\n",
    "        e_out.append(value(opt.e_out[i]))\n",
    "    \n",
    "    #just makes things easier to manipulate\n",
    "    charge = pd.Series(charge)\n",
    "    e_in  = pd.Series(e_in)\n",
    "    e_out  = pd.Series(e_out)\n",
    "    \n",
    "    opt_results[j] = [charge,e_in,e_out]\n",
    "    j = j+1\n",
    "    \n",
    "    "
   ]
  },
  {
   "cell_type": "code",
   "execution_count": 24,
   "id": "8a48fba7",
   "metadata": {},
   "outputs": [
    {
     "data": {
      "text/plain": [
       "[<pyomo.core.base.PyomoModel.ConcreteModel at 0x1f854349640>,\n",
       " <pyomo.core.base.PyomoModel.ConcreteModel at 0x1f85d25a540>]"
      ]
     },
     "execution_count": 24,
     "metadata": {},
     "output_type": "execute_result"
    }
   ],
   "source": [
    "results"
   ]
  },
  {
   "cell_type": "code",
   "execution_count": 25,
   "id": "d59bb471",
   "metadata": {},
   "outputs": [
    {
     "data": {
      "text/plain": [
       "'Iron-Air Battery'"
      ]
     },
     "execution_count": 25,
     "metadata": {},
     "output_type": "execute_result"
    }
   ],
   "source": [
    "names[0]"
   ]
  },
  {
   "cell_type": "code",
   "execution_count": 26,
   "id": "fe3e5548",
   "metadata": {},
   "outputs": [
    {
     "name": "stdout",
     "output_type": "stream",
     "text": [
      "Results for the Iron-Air Battery:\n",
      "Capacity is 609870 MWh\n",
      "Power is 6099 MW\n",
      "Cost is this 489605530\n",
      "Results for the Lithium-Ion Battery:\n",
      "Capacity is 102349 MWh\n",
      "Power is 25587 MW\n",
      "Cost is this 703970750\n"
     ]
    }
   ],
   "source": [
    "j = 0\n",
    "\n",
    "#Using an Iterator again to grab the names\n",
    "for opt in results:\n",
    "    name = names[j]\n",
    "    print('Results for the {}:'.format(name))\n",
    "    print(\"Capacity is {:.0f} MWh\".format(opt.capacity()))\n",
    "    print(\"Power is {:.0f} MW\".format(opt.power()))\n",
    "    print(\"Cost is this {:.0f}\".format(opt.obj()))\n",
    "    j = j + 1\n",
    "    "
   ]
  },
  {
   "cell_type": "code",
   "execution_count": 27,
   "id": "6582815b",
   "metadata": {},
   "outputs": [
    {
     "data": {
      "text/plain": [
       "6228157076.75"
      ]
     },
     "execution_count": 27,
     "metadata": {},
     "output_type": "execute_result"
    }
   ],
   "source": [
    "622769*10000.75"
   ]
  },
  {
   "cell_type": "code",
   "execution_count": 28,
   "id": "85ef48a6",
   "metadata": {},
   "outputs": [
    {
     "name": "stderr",
     "output_type": "stream",
     "text": [
      "<ipython-input-28-fc59ada53135>:14: UserWarning: FixedFormatter should only be used together with FixedLocator\n",
      "  ax[i].set_xticklabels(labels, rotation=40, fontsize=8)\n"
     ]
    },
    {
     "data": {
      "image/png": "[encoded data removed]",
      "text/plain": [
       "<Figure size 425.197x262.786 with 2 Axes>"
      ]
     },
     "metadata": {
      "needs_background": "light"
     },
     "output_type": "display_data"
    }
   ],
   "source": [
    "fig,ax = plt.subplots(1, 2, figsize = set_size(width), sharey=True)\n",
    "\n",
    "#apparently have to draw the canvas before it can get ticks?\n",
    "fig.canvas.draw()\n",
    "\n",
    "for i in range(len(storage_ops)):\n",
    "    ax[i].set_xlabel(\"Hours\", fontsize = 10)\n",
    "    ax[i].grid(True)\n",
    "    ax[i].set_title(names[i], fontsize=12)\n",
    "    ax[i].plot(opt_results[i][1], label='Charge', color='red')\n",
    "    ax[i].plot(opt_results[i][2], label='Discharge', color='blue')\n",
    "    plt.draw()\n",
    "    labels = ax[i].get_xticklabels()\n",
    "    ax[i].set_xticklabels(labels, rotation=40, fontsize=8)\n",
    "    handles, labels = ax[i].get_legend_handles_labels()\n",
    "    ax[i].tick_params(axis='y', labelsize=8)\n",
    "    ax[i].xaxis.set_major_locator(plt.MaxNLocator(5))\n",
    "\n",
    "fig.legend(handles, labels, fontsize=10, bbox_to_anchor=(0.65, 0, 0.5, 0.89))\n",
    "fig.text(0.03, 0.4, \"Energy (MWh)\", fontsize=10, rotation='vertical')\n",
    "plt.show()\n"
   ]
  },
  {
   "cell_type": "code",
   "execution_count": 29,
   "id": "a8eaa553",
   "metadata": {},
   "outputs": [
    {
     "name": "stderr",
     "output_type": "stream",
     "text": [
      "<ipython-input-29-33a4ab502ce3>:13: UserWarning: FixedFormatter should only be used together with FixedLocator\n",
      "  ax[i].set_xticklabels(labels, rotation=40, fontsize=8)\n"
     ]
    },
    {
     "data": {
      "image/png": "[encoded data removed]",
      "text/plain": [
       "<Figure size 425.197x262.786 with 2 Axes>"
      ]
     },
     "metadata": {
      "needs_background": "light"
     },
     "output_type": "display_data"
    }
   ],
   "source": [
    "fig,ax = plt.subplots(1, 2, figsize = set_size(width), sharey=True)\n",
    "\n",
    "#apparently have to draw the canvas before it can get ticks?\n",
    "fig.canvas.draw()\n",
    "\n",
    "for i in range(len(storage_ops)):\n",
    "    ax[i].set_xlabel(\"Hours\", fontsize = 10)\n",
    "    ax[i].grid(True)\n",
    "    ax[i].set_title(names[i], fontsize=12)\n",
    "    ax[i].plot(opt_results[i][0], label='Charge', color='red')\n",
    "    plt.draw()\n",
    "    labels = ax[i].get_xticklabels()\n",
    "    ax[i].set_xticklabels(labels, rotation=40, fontsize=8)\n",
    "    handles, labels = ax[i].get_legend_handles_labels()\n",
    "    ax[i].tick_params(axis='y', labelsize=8)\n",
    "    ax[i].xaxis.set_major_locator(plt.MaxNLocator(5))\n",
    "    \n",
    "fig.legend(handles, labels, fontsize=10, bbox_to_anchor=(0.6, 0, 0.5, 0.89))\n",
    "fig.text(0.01, 0.4, \"Energy (MWh)\", fontsize=10, rotation='vertical')\n",
    "plt.show()"
   ]
  },
  {
   "cell_type": "code",
   "execution_count": null,
   "id": "8a4929be",
   "metadata": {},
   "outputs": [],
   "source": []
  }
 ],
 "metadata": {
  "kernelspec": {
   "display_name": "Python 3",
   "language": "python",
   "name": "python3"
  },
  "language_info": {
   "codemirror_mode": {
    "name": "ipython",
    "version": 3
   },
   "file_extension": ".py",
   "mimetype": "text/x-python",
   "name": "python",
   "nbconvert_exporter": "python",
   "pygments_lexer": "ipython3",
   "version": "3.8.8"
  }
 },
 "nbformat": 4,
 "nbformat_minor": 5
}

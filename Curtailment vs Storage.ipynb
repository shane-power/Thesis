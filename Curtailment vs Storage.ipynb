{
 "cells": [
  {
   "cell_type": "markdown",
   "id": "5ab77e9b",
   "metadata": {},
   "source": [
    "# Curtailment From Eirgrid Data "
   ]
  },
  {
   "cell_type": "code",
   "execution_count": 28,
   "id": "7f55efa3",
   "metadata": {},
   "outputs": [],
   "source": [
    "#Import libraries\n",
    "import pandas as pd \n",
    "import numpy as np \n",
    "import matplotlib.pyplot as plt\n",
    "import seaborn as sns\n",
    "from pyomo.environ import *\n",
    "from pyomo.util.infeasible import log_infeasible_constraints\n",
    "import logging\n",
    "pd.options.mode.chained_assignment = None\n",
    "width = 426.79135"
   ]
  },
  {
   "cell_type": "code",
   "execution_count": 29,
   "id": "ef212d01",
   "metadata": {},
   "outputs": [
    {
     "name": "stderr",
     "output_type": "stream",
     "text": [
      "C:\\Users\\shane\\Anaconda3\\lib\\site-packages\\IPython\\core\\interactiveshell.py:3165: DtypeWarning: Columns (0,1,8,16) have mixed types.Specify dtype option on import or set low_memory=False.\n",
      "  has_raised = await self.run_ast_nodes(code_ast.body, cell_name,\n"
     ]
    }
   ],
   "source": [
    "df = pd.read_excel('data/Eirgrid_data_20_21.xlsx', index_col=0) #bring in the raw data, this is in MW\n",
    "market_prices = pd.read_csv('data/market_price.csv')"
   ]
  },
  {
   "cell_type": "code",
   "execution_count": 30,
   "id": "8e78fc2e",
   "metadata": {},
   "outputs": [],
   "source": [
    "def set_size(width, fraction=1):\n",
    "    \"\"\"Set figure dimensions to avoid scaling in LaTeX.\n",
    "\n",
    "    Parameters\n",
    "    ----------\n",
    "    width: float\n",
    "            Document textwidth or columnwidth in pts\n",
    "    fraction: float, optional\n",
    "            Fraction of the width which you wish the figure to occupy\n",
    "\n",
    "    Returns\n",
    "    -------\n",
    "    fig_dim: tuple\n",
    "            Dimensions of figure in inches\n",
    "    \"\"\"\n",
    "    # Width of figure (in pts)\n",
    "    fig_width_pt = width * fraction\n",
    "\n",
    "    # Convert from pt to inches\n",
    "    inches_per_pt = 1 / 72.27\n",
    "\n",
    "    # Golden ratio to set aesthetic figure height\n",
    "    # https://disq.us/p/2940ij3\n",
    "    golden_ratio = (5**.5 - 1) / 2\n",
    "\n",
    "    # Figure width in inches\n",
    "    fig_width_in = fig_width_pt * inches_per_pt\n",
    "    # Figure height in inches\n",
    "    fig_height_in = fig_width_in * golden_ratio\n",
    "\n",
    "    fig_dim = (fig_width_in, fig_height_in)\n",
    "\n",
    "    return fig_dim"
   ]
  },
  {
   "cell_type": "markdown",
   "id": "c9d4e2ff",
   "metadata": {},
   "source": [
    "## Energy data"
   ]
  },
  {
   "cell_type": "code",
   "execution_count": 31,
   "id": "e0393a04",
   "metadata": {},
   "outputs": [],
   "source": [
    "#Decided to use an all Island approach as they are intrinsincally linked\n",
    "\n",
    "all_ireland = pd.DataFrame()\n",
    "\n",
    "#Create new columns\n",
    "all_ireland['Wind Availability'] = df['IE Wind Availability']+df['NI Wind Availability']\n",
    "all_ireland['Wind Generation'] = df['IE Wind Generation']+df['NI Wind Generation']\n",
    "all_ireland['Demand'] = df['IE Demand']+ df['NI Demand']\n",
    "all_ireland['SNSP'] = df['SNSP']\n",
    "\n",
    "#Not entirely sure yet if this is how to get wind curtailment, shouldn't have to do the negative thing\n",
    "all_ireland['Curtailment'] = all_ireland['Wind Availability'] - all_ireland['Wind Generation'] \n",
    "\n",
    "#set negative values to 0\n",
    "all_ireland[all_ireland < 0] = 0\n",
    "\n",
    "#remake to hourly and choose 2019\n",
    "all_ireland = all_ireland.resample('H').mean() #bring it from quarter hourly data to hourly, now in MWh\n",
    "all_ireland = all_ireland[all_ireland.index.year.isin([2020])]\n",
    "all_ireland = all_ireland.fillna(method='ffill') #in case there's missing data fill with next value in line\n"
   ]
  },
  {
   "cell_type": "code",
   "execution_count": 32,
   "id": "01487a04",
   "metadata": {},
   "outputs": [
    {
     "data": {
      "text/plain": [
       "0.66245"
      ]
     },
     "execution_count": 32,
     "metadata": {},
     "output_type": "execute_result"
    }
   ],
   "source": [
    "all_ireland['SNSP'].max() #This makes sense with whats in the report, was increased to 65%"
   ]
  },
  {
   "cell_type": "code",
   "execution_count": 33,
   "id": "7a74cee9",
   "metadata": {},
   "outputs": [
    {
     "data": {
      "text/plain": [
       "4207.56625"
      ]
     },
     "execution_count": 33,
     "metadata": {},
     "output_type": "execute_result"
    }
   ],
   "source": [
    "all_ireland['Wind Generation'].max()"
   ]
  },
  {
   "cell_type": "code",
   "execution_count": 34,
   "id": "5711f894",
   "metadata": {},
   "outputs": [
    {
     "name": "stdout",
     "output_type": "stream",
     "text": [
      "13698.8 11076\n",
      "2089.07 707\n",
      "% dispatch down = 13.23\n"
     ]
    }
   ],
   "source": [
    "per_dispactch_down = (all_ireland['Curtailment'].sum()/all_ireland['Wind Availability'].sum())*100\n",
    "total_gen = round(all_ireland['Wind Generation'].sum()/1000,2)\n",
    "total_dispatch_down = round(all_ireland['Curtailment'].sum()/1000,2)\n",
    "\n",
    "print(total_gen, 11076) #so the over\n",
    "print(total_dispatch_down, 707)\n",
    "print('% dispatch down = {}'.format(round(per_dispactch_down,2)))\n"
   ]
  },
  {
   "cell_type": "code",
   "execution_count": 35,
   "id": "8a38294f",
   "metadata": {},
   "outputs": [
    {
     "name": "stdout",
     "output_type": "stream",
     "text": [
      "Only 33.84% of dispatch down in this data makes it to the final report\n"
     ]
    }
   ],
   "source": [
    "print('Only {}% of dispatch down in this data makes it to the final report'.format(round(707/(all_ireland['Curtailment'].sum()/1000)*100,2)))"
   ]
  },
  {
   "cell_type": "code",
   "execution_count": 36,
   "id": "c3f5ba05",
   "metadata": {},
   "outputs": [],
   "source": [
    "#Making these figures agree with what was in the report\n",
    "scaling_factor = 12.1/per_dispactch_down\n",
    "all_ireland['Curtailment'] = all_ireland['Curtailment']*scaling_factor"
   ]
  },
  {
   "cell_type": "code",
   "execution_count": 37,
   "id": "88cf224b",
   "metadata": {},
   "outputs": [
    {
     "data": {
      "text/plain": [
       "1910155.488516"
      ]
     },
     "execution_count": 37,
     "metadata": {},
     "output_type": "execute_result"
    }
   ],
   "source": [
    "all_ireland['Curtailment'].sum() #closer now"
   ]
  },
  {
   "cell_type": "markdown",
   "id": "3a064ea5",
   "metadata": {},
   "source": [
    "## Price data"
   ]
  },
  {
   "cell_type": "code",
   "execution_count": 38,
   "id": "4880bc53",
   "metadata": {},
   "outputs": [],
   "source": [
    "#Start arranging the price data here, have only used the Day ahead market really\n",
    "prices = market_prices[market_prices['auction'] == 'DAM']\n",
    "prices.index = pd.to_datetime(prices['timestamp'])"
   ]
  },
  {
   "cell_type": "code",
   "execution_count": 39,
   "id": "46571350",
   "metadata": {},
   "outputs": [],
   "source": [
    "prices = prices[prices.index.year.isin([2020])]\n",
    "prices.index = all_ireland.index[0:8783]\n",
    "all_ireland['Day Ahead Price'] = prices['price_eur']\n",
    "all_ireland = all_ireland.dropna()"
   ]
  },
  {
   "cell_type": "markdown",
   "id": "636a1e44",
   "metadata": {},
   "source": [
    "# Actual model"
   ]
  },
  {
   "cell_type": "code",
   "execution_count": 40,
   "id": "034472d4",
   "metadata": {},
   "outputs": [],
   "source": [
    "class storage:\n",
    "    def __init__(self,capacity_cost,power_cost,efficiency,hours_of_storage,capacity,asset_life,power,\n",
    "                self_discharge_rate=None):\n",
    "        self.capacity_cost = capacity_cost\n",
    "        self.power_cost = power_cost\n",
    "        self.efficiency = efficiency\n",
    "        self.hours_of_storage = hours_of_storage\n",
    "        self.capacity = capacity\n",
    "        self.power = power\n",
    "        self.asset_life = asset_life\n",
    "        self.self_discharge_rate = self_discharge_rate"
   ]
  },
  {
   "cell_type": "code",
   "execution_count": 41,
   "id": "f8720fb9",
   "metadata": {},
   "outputs": [],
   "source": [
    "#Define the different technologys\n",
    "iron_air = storage(capacity_cost=10.75*1000,power_cost=1075,efficiency=.45,hours_of_storage=100,capacity=100,power=1000,\n",
    "                   asset_life=10,self_discharge_rate=None)\n",
    "\n",
    "li_ion = storage(capacity_cost=324*1000,power_cost=1296,efficiency=.9,hours_of_storage=4,capacity=100,power=1000,\n",
    "                   asset_life=10,self_discharge_rate=None)\n",
    "\n",
    "storage_ops = [iron_air, li_ion]\n",
    "names = ['Iron-Air Battery', 'Lithium-Ion Battery']"
   ]
  },
  {
   "cell_type": "code",
   "execution_count": 103,
   "id": "3c625a57",
   "metadata": {},
   "outputs": [],
   "source": [
    "class simulation:\n",
    "    def __init__(self, data, storage):\n",
    "        #This should bring in the data\n",
    "        self.data = data\n",
    "        self.storage = storage\n",
    "    \n",
    "    def run(self):\n",
    "        self.data = self.data.dropna()\n",
    "        self.data.index = range(1,len(self.data)+1)\n",
    "        #Create the model\n",
    "        model = ConcreteModel()\n",
    "\n",
    "        #Everything will be done in timesteps\n",
    "        model.t = RangeSet(len(self.data))\n",
    "\n",
    "        #Define a few parameters that will model on the constraints\n",
    "        model.e_available = Param(model.t, initialize=self.data['Curtailment'])\n",
    "        model.efficiency = Param(initialize=self.storage.efficiency)\n",
    "        model.price = Param(model.t, initialize=self.data['Day Ahead Price'])\n",
    "        model.max_out = Param(model.t, initialize=self.data['Demand'] - self.data['Wind Generation'])\n",
    "\n",
    "        #The variables of the problem\n",
    "        model.charge = Var(model.t, domain=NonNegativeReals)\n",
    "        model.e_in = Var(model.t, domain=NonNegativeReals) #this is the amount of energy not curtailed\n",
    "        model.e_out = Var(model.t, domain=NonNegativeReals)\n",
    "        model.capacity = Var(domain=NonNegativeReals) \n",
    "        model.power = Var(domain=NonNegativeReals)\n",
    "\n",
    "        #The battery charge is equal to previous time step plus charge minus discharge, tick\n",
    "        def state_of_charge(model,t):\n",
    "            if t == 1:\n",
    "                return model.charge[t] == 0\n",
    "            else:\n",
    "                return model.charge[t] == model.charge[t-1] + model.e_in[t-1]*model.efficiency - model.e_out[t-1]\n",
    "        model.soc = Constraint(model.t, rule=state_of_charge)\n",
    "        \n",
    "        #Charge of the battery can't exceed the capacity, tick\n",
    "        def max_charge(model, t):\n",
    "            return model.charge[t] <= model.capacity\n",
    "        model.max_charge = Constraint(model.t, rule=max_charge)\n",
    "\n",
    "        #Power in can't exceed the rate limit combined with effiency, tick\n",
    "        def power_in(model,t): \n",
    "            return model.e_in[t] <= model.power\n",
    "        model.pow_in = Constraint(model.t, rule=power_in)\n",
    "        \n",
    "        #Power out can't exceed the rate limit combined with effiency, tick\n",
    "        def power_out(model,t):\n",
    "            return model.e_out[t] <= model.power\n",
    "        model.pow_out = Constraint(model.t, rule=power_out)\n",
    "        \n",
    "        #Charging of the battery must be less than or equal to the amount of energy available\n",
    "        def charging_con(model,t):\n",
    "            return model.e_in[t] == model.e_available[t]\n",
    "        model.con1 = Constraint(model.t, rule=charging_con)\n",
    "        \n",
    "        #Discharging of the battery must be less than or equal to the amount of energy available\n",
    "        def discharging_con(model,t): \n",
    "            return model.e_out[t] <= model.charge[t]\n",
    "        model.con2 = Constraint(model.t, rule=discharging_con)\n",
    "        \n",
    "        #The hours of storage chosen must be less than or equal to the technology allows\n",
    "        def storage_hours(model):\n",
    "            return model.power == model.capacity/self.storage.hours_of_storage\n",
    "        model.con3 = Constraint(rule=storage_hours)\n",
    "        \n",
    "        #Wanted to reduce the massive discharges, can only output demand - wind at once\n",
    "        def max_output(model,t): \n",
    "            return model.e_out[t] <= model.max_out[t]\n",
    "        model.con4 = Constraint(model.t, rule=max_output)\n",
    "        \n",
    "        #objective function, minimize the cost of the system. Want to include curtailment in some way\n",
    "        profit = sum(model.price[t]*model.e_out[t] for t in model.t) - self.storage.capacity_cost*model.capacity\n",
    "        model.obj = Objective(expr=profit, sense=maximize)\n",
    "\n",
    "        # Solve the model\n",
    "        solver = SolverFactory('glpk')\n",
    "        results = solver.solve(model, tee=True)\n",
    "        \n",
    "        return model\n"
   ]
  },
  {
   "cell_type": "code",
   "execution_count": 104,
   "id": "cebe62c4",
   "metadata": {
    "scrolled": true
   },
   "outputs": [
    {
     "name": "stdout",
     "output_type": "stream",
     "text": [
      "GLPSOL--GLPK LP/MIP Solver 5.0\n",
      "Parameter(s) specified in the command line:\n",
      " --write C:\\Users\\shane\\AppData\\Local\\Temp\\tmp29v133cd.glpk.raw --wglp C:\\Users\\shane\\AppData\\Local\\Temp\\tmp_k1y1wfv.glpk.glp\n",
      " --cpxlp C:\\Users\\shane\\AppData\\Local\\Temp\\tmp0fg4_u6h.pyomo.lp\n",
      "Reading problem data from 'C:\\Users\\shane\\AppData\\Local\\Temp\\tmp0fg4_u6h.pyomo.lp'...\n",
      "61483 rows, 26352 columns, 122962 non-zeros\n",
      "342477 lines were read\n",
      "Writing problem data to 'C:\\Users\\shane\\AppData\\Local\\Temp\\tmp_k1y1wfv.glpk.glp'...\n",
      "272157 lines were written\n",
      "GLPK Simplex Optimizer 5.0\n",
      "61483 rows, 26352 columns, 122962 non-zeros\n",
      "Preprocessing...\n",
      "30067 rows, 17564 columns, 68914 non-zeros\n",
      "Scaling...\n",
      " A: min|aij| =  1.000e-02  max|aij| =  1.000e+00  ratio =  1.000e+02\n",
      "GM: min|aij| =  5.425e-01  max|aij| =  1.843e+00  ratio =  3.398e+00\n",
      "EQ: min|aij| =  2.943e-01  max|aij| =  1.000e+00  ratio =  3.398e+00\n",
      "Constructing initial basis...\n",
      "Size of triangular part is 30067\n",
      "      0: obj =   1.503707019e+07 inf =   4.813e+05 (12524)\n",
      "   8254: obj =  -3.039420535e+09 inf =   1.515e+05 (4569) 78\n",
      "  12959: obj =  -3.039274835e+09 inf =   8.951e-16 (0) 45\n",
      "* 21941: obj =  -2.961397075e+09 inf =   0.000e+00 (0) 12\n",
      "OPTIMAL LP SOLUTION FOUND\n",
      "Time used:   11.9 secs\n",
      "Memory used: 58.5 Mb (61337391 bytes)\n",
      "Writing basic solution to 'C:\\Users\\shane\\AppData\\Local\\Temp\\tmp29v133cd.glpk.raw'...\n",
      "87844 lines were written\n",
      "GLPSOL--GLPK LP/MIP Solver 5.0\n",
      "Parameter(s) specified in the command line:\n",
      " --write C:\\Users\\shane\\AppData\\Local\\Temp\\tmpzagdpw61.glpk.raw --wglp C:\\Users\\shane\\AppData\\Local\\Temp\\tmpzgi381k1.glpk.glp\n",
      " --cpxlp C:\\Users\\shane\\AppData\\Local\\Temp\\tmp8codp8fo.pyomo.lp\n",
      "Reading problem data from 'C:\\Users\\shane\\AppData\\Local\\Temp\\tmp8codp8fo.pyomo.lp'...\n",
      "61483 rows, 26352 columns, 122962 non-zeros\n",
      "342477 lines were read\n",
      "Writing problem data to 'C:\\Users\\shane\\AppData\\Local\\Temp\\tmpzgi381k1.glpk.glp'...\n",
      "272157 lines were written\n",
      "GLPK Simplex Optimizer 5.0\n",
      "61483 rows, 26352 columns, 122962 non-zeros\n",
      "Preprocessing...\n",
      "30067 rows, 17564 columns, 68914 non-zeros\n",
      "Scaling...\n",
      " A: min|aij| =  2.500e-01  max|aij| =  1.000e+00  ratio =  4.000e+00\n",
      "Problem data seem to be well scaled\n",
      "Constructing initial basis...\n",
      "Size of triangular part is 30067\n",
      "      0: obj =   2.813673438e+07 inf =   2.019e+06 (12898)\n",
      "   8642: obj =  -6.453950968e+09 inf =   4.947e+05 (4645) 82\n",
      "  13395: obj =  -6.506204434e+09 inf =   0.000e+00 (0) 47\n",
      "* 22436: obj =  -6.418787622e+09 inf =   0.000e+00 (0) 14\n",
      "OPTIMAL LP SOLUTION FOUND\n",
      "Time used:   11.5 secs\n",
      "Memory used: 58.5 Mb (61337391 bytes)\n",
      "Writing basic solution to 'C:\\Users\\shane\\AppData\\Local\\Temp\\tmpzagdpw61.glpk.raw'...\n",
      "87844 lines were written\n"
     ]
    }
   ],
   "source": [
    "results = []\n",
    "\n",
    "#for each storage option run the optimization\n",
    "for x in storage_ops:\n",
    "    sim = simulation(all_ireland, x)\n",
    "    model = sim.run()\n",
    "    results.append(model)"
   ]
  },
  {
   "cell_type": "code",
   "execution_count": 105,
   "id": "58d0bfd0",
   "metadata": {},
   "outputs": [
    {
     "data": {
      "text/plain": [
       "8783"
      ]
     },
     "execution_count": 105,
     "metadata": {},
     "output_type": "execute_result"
    }
   ],
   "source": [
    "len(all_ireland.index)"
   ]
  },
  {
   "cell_type": "code",
   "execution_count": 106,
   "id": "84ab6408",
   "metadata": {},
   "outputs": [],
   "source": [
    "#try and bring these for each storage option\n",
    "opt_results = {}\n",
    "j = 0\n",
    "\n",
    "for opt in results:\n",
    "    charge = []\n",
    "    e_in = []\n",
    "    e_out = []\n",
    "    \n",
    "    #grab all the values from the model\n",
    "    for i in range(1,len(all_ireland)):\n",
    "        charge.append(value(opt.charge[i]))\n",
    "        e_in.append(value(opt.e_in[i]))\n",
    "        e_out.append(value(opt.e_out[i]))\n",
    "    \n",
    "    #just makes things easier to manipulate\n",
    "    charge = pd.Series(charge)\n",
    "    e_in  = pd.Series(e_in)\n",
    "    e_out  = pd.Series(e_out)\n",
    "    \n",
    "    opt_results[j] = [charge,e_in,e_out]\n",
    "    j = j+1\n",
    "    \n",
    "    "
   ]
  },
  {
   "cell_type": "code",
   "execution_count": 107,
   "id": "68038b15",
   "metadata": {},
   "outputs": [
    {
     "data": {
      "text/plain": [
       "1909379.7081110394"
      ]
     },
     "execution_count": 107,
     "metadata": {},
     "output_type": "execute_result"
    }
   ],
   "source": [
    "opt_results[0][1].sum()"
   ]
  },
  {
   "cell_type": "code",
   "execution_count": 108,
   "id": "8a48fba7",
   "metadata": {},
   "outputs": [
    {
     "data": {
      "text/plain": [
       "1909379.7081110394"
      ]
     },
     "execution_count": 108,
     "metadata": {},
     "output_type": "execute_result"
    }
   ],
   "source": [
    "e_in.sum()"
   ]
  },
  {
   "cell_type": "code",
   "execution_count": 109,
   "id": "720b75c4",
   "metadata": {},
   "outputs": [
    {
     "data": {
      "text/plain": [
       "1909785.737626011"
      ]
     },
     "execution_count": 109,
     "metadata": {},
     "output_type": "execute_result"
    }
   ],
   "source": [
    "all_ireland['Curtailment'].sum()"
   ]
  },
  {
   "cell_type": "code",
   "execution_count": 110,
   "id": "2a8a00b8",
   "metadata": {},
   "outputs": [
    {
     "data": {
      "text/plain": [
       "8783"
      ]
     },
     "execution_count": 110,
     "metadata": {},
     "output_type": "execute_result"
    }
   ],
   "source": [
    "len(results[0].t)"
   ]
  },
  {
   "cell_type": "code",
   "execution_count": 111,
   "id": "d59bb471",
   "metadata": {},
   "outputs": [
    {
     "data": {
      "text/plain": [
       "'Iron-Air Battery'"
      ]
     },
     "execution_count": 111,
     "metadata": {},
     "output_type": "execute_result"
    }
   ],
   "source": [
    "names[0]"
   ]
  },
  {
   "cell_type": "code",
   "execution_count": 112,
   "id": "fe3e5548",
   "metadata": {},
   "outputs": [
    {
     "name": "stdout",
     "output_type": "stream",
     "text": [
      "Results for the Iron-Air Battery:\n",
      "Capacity is 284251 MWh\n",
      "Power is 2843 MW\n",
      "Cost is this -2961397075\n",
      "Results for the Lithium-Ion Battery:\n",
      "Capacity is 20203 MWh\n",
      "Power is 5051 MW\n",
      "Cost is this -6418787622\n"
     ]
    }
   ],
   "source": [
    "j = 0\n",
    "\n",
    "#Using an Iterator again to grab the names\n",
    "for opt in results:\n",
    "    name = names[j]\n",
    "    print('Results for the {}:'.format(name))\n",
    "    print(\"Capacity is {:.0f} MWh\".format(opt.capacity()))\n",
    "    print(\"Power is {:.0f} MW\".format(opt.power()))\n",
    "    print(\"Cost is this {:.0f}\".format(opt.obj()))\n",
    "    j = j + 1\n",
    "    "
   ]
  },
  {
   "cell_type": "code",
   "execution_count": 113,
   "id": "6582815b",
   "metadata": {},
   "outputs": [
    {
     "data": {
      "text/plain": [
       "6228157076.75"
      ]
     },
     "execution_count": 113,
     "metadata": {},
     "output_type": "execute_result"
    }
   ],
   "source": [
    "622769*10000.75"
   ]
  },
  {
   "cell_type": "code",
   "execution_count": 117,
   "id": "b49d5d4f",
   "metadata": {},
   "outputs": [
    {
     "data": {
      "text/plain": [
       "RangeIndex(start=0, stop=8782, step=1)"
      ]
     },
     "execution_count": 117,
     "metadata": {},
     "output_type": "execute_result"
    }
   ],
   "source": [
    "opt_results[0][1].index"
   ]
  },
  {
   "cell_type": "code",
   "execution_count": 127,
   "id": "85ef48a6",
   "metadata": {},
   "outputs": [
    {
     "data": {
      "image/png": "[encoded data removed]",
      "text/plain": [
       "<Figure size 425.197x262.786 with 2 Axes>"
      ]
     },
     "metadata": {
      "needs_background": "light"
     },
     "output_type": "display_data"
    }
   ],
   "source": [
    "fig,ax = plt.subplots(1, 2, figsize = set_size(width), sharey=True)\n",
    "\n",
    "#apparently have to draw the canvas before it can get ticks?\n",
    "fig.canvas.draw()\n",
    "\n",
    "for i in range(len(storage_ops)):\n",
    "    ax[i].set_xlabel(\"Hours\", fontsize = 10)\n",
    "    ax[i].grid(True)\n",
    "    ax[i].set_title(names[i], fontsize=12)\n",
    "    ax[i].plot(opt_results[i][1][0:len(opt_results[i][1])], label='Charge', color='red')\n",
    "    ax[i].plot(opt_results[i][2][0:len(opt_results[i][1])], label='Discharge', color='blue')\n",
    "    #plt.draw()\n",
    "    #labels = ax[i].get_xticklabels()\n",
    "    #ax[i].set_xticklabels(labels, rotation=40, fontsize=8)\n",
    "    #handles, labels = ax[i].get_legend_handles_labels()\n",
    "    #ax[i].tick_params(axis='y', labelsize=8)\n",
    "    #ax[i].xaxis.set_major_locator(plt.MaxNLocator(5))\n",
    "#\n",
    "fig.legend(handles, labels, fontsize=10, bbox_to_anchor=(0.65, 0, 0.5, 0.89))\n",
    "fig.text(0.02, 0.4, \"Energy (MWh)\", fontsize=10, rotation='vertical')\n",
    "# Save and remove excess whitespace\n",
    "fig.savefig('images/iron_li_peform.png', format='png', dpi=500, bbox_inches='tight')\n",
    "plt.show()\n"
   ]
  },
  {
   "cell_type": "code",
   "execution_count": 135,
   "id": "a8eaa553",
   "metadata": {},
   "outputs": [
    {
     "data": {
      "image/png": "[encoded data removed]",
      "text/plain": [
       "<Figure size 425.197x262.786 with 2 Axes>"
      ]
     },
     "metadata": {
      "needs_background": "light"
     },
     "output_type": "display_data"
    }
   ],
   "source": [
    "fig,ax = plt.subplots(1, 2, figsize = set_size(width), sharey=True)\n",
    "\n",
    "#apparently have to draw the canvas before it can get ticks?\n",
    "fig.canvas.draw()\n",
    "\n",
    "for i in range(len(storage_ops)):\n",
    "    ax[i].set_xlabel(\"Hours\", fontsize = 10)\n",
    "    ax[i].grid(True)\n",
    "    ax[i].set_title(names[i], fontsize=12)\n",
    "    ax[i].plot(opt_results[i][0], label='State of Charge', color='red')\n",
    "    #plt.draw()\n",
    "    #labels = ax[i].get_xticklabels()\n",
    "    #ax[i].set_xticklabels(labels, rotation=40, fontsize=8)\n",
    "    #handles, labels = ax[i].get_legend_handles_labels()\n",
    "    #ax[i].tick_params(axis='y', labelsize=8)\n",
    "    #ax[i].xaxis.set_major_locator(plt.MaxNLocator(5))\n",
    "    #\n",
    "fig.legend(handles, labels, fontsize=10, bbox_to_anchor=(0.65, 0, 0.5, 0.89))\n",
    "fig.text(-.02, 0.4, \"Energy (MWh)\", fontsize=10, rotation='vertical')\n",
    "fig.savefig('images/iron_li_soc.png', format='png', dpi=500,  bbox_inches='tight')\n",
    "plt.show()"
   ]
  },
  {
   "cell_type": "code",
   "execution_count": null,
   "id": "2491cf84",
   "metadata": {},
   "outputs": [],
   "source": []
  }
 ],
 "metadata": {
  "kernelspec": {
   "display_name": "Python 3",
   "language": "python",
   "name": "python3"
  },
  "language_info": {
   "codemirror_mode": {
    "name": "ipython",
    "version": 3
   },
   "file_extension": ".py",
   "mimetype": "text/x-python",
   "name": "python",
   "nbconvert_exporter": "python",
   "pygments_lexer": "ipython3",
   "version": "3.8.8"
  }
 },
 "nbformat": 4,
 "nbformat_minor": 5
}
